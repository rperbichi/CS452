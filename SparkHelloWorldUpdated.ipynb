{
 "cells": [
  {
   "cell_type": "code",
   "execution_count": 2,
   "metadata": {},
   "outputs": [],
   "source": [
    "# Remember to install JDK \n",
    "#   -  https://www.oracle.com/java/technologies/downloads/\n",
    "# Remember to install pyspark and findspark\n",
    "#   - pip install findspark\n",
    "#   - pip install pyspark\n",
    "\n",
    "import findspark\n",
    "findspark.init()\n",
    "\n",
    "import pyspark\n",
    "from pyspark.sql import SparkSession"
   ]
  },
  {
   "cell_type": "code",
   "execution_count": 5,
   "metadata": {},
   "outputs": [
    {
     "name": "stderr",
     "output_type": "stream",
     "text": [
      "24/05/20 21:26:56 WARN Utils: Your hostname, Rauls-MacBook-Pro.local resolves to a loopback address: 127.0.0.1; using 192.168.1.8 instead (on interface en0)\n",
      "24/05/20 21:26:56 WARN Utils: Set SPARK_LOCAL_IP if you need to bind to another address\n",
      "Setting default log level to \"WARN\".\n",
      "To adjust logging level use sc.setLogLevel(newLevel). For SparkR, use setLogLevel(newLevel).\n",
      "24/05/20 21:26:57 WARN NativeCodeLoader: Unable to load native-hadoop library for your platform... using builtin-java classes where applicable\n"
     ]
    }
   ],
   "source": [
    "spark = SparkSession.builder \\\n",
    "    .appName(\"HelloWorld\") \\\n",
    "    .getOrCreate()\n",
    "sc = spark.sparkContext\n",
    "sc.setLogLevel('WARN')"
   ]
  },
  {
   "cell_type": "code",
   "execution_count": 6,
   "metadata": {},
   "outputs": [
    {
     "name": "stdout",
     "output_type": "stream",
     "text": [
      "[1, 4, 9, 16]\n"
     ]
    },
    {
     "name": "stderr",
     "output_type": "stream",
     "text": [
      "                                                                                \r"
     ]
    }
   ],
   "source": [
    "nums = sc.parallelize([1,2,3,4])\n",
    "print(nums.map(lambda x: x*x).collect())"
   ]
  },
  {
   "cell_type": "code",
   "execution_count": 8,
   "metadata": {},
   "outputs": [
    {
     "name": "stdout",
     "output_type": "stream",
     "text": [
      "+-----+-----+\n",
      "| word|count|\n",
      "+-----+-----+\n",
      "|  the|62257|\n",
      "|  and|38642|\n",
      "|   of|34553|\n",
      "|   to|13457|\n",
      "|  And|12735|\n",
      "| that|12464|\n",
      "|   in|12222|\n",
      "|shall| 9762|\n",
      "|   he| 9510|\n",
      "| unto| 8932|\n",
      "|    I| 8708|\n",
      "|  his| 8362|\n",
      "|    a| 7999|\n",
      "|  for| 7161|\n",
      "| they| 6895|\n",
      "|   be| 6736|\n",
      "|   is| 6721|\n",
      "| with| 5997|\n",
      "|  not| 5859|\n",
      "|  all| 5256|\n",
      "+-----+-----+\n",
      "\n"
     ]
    }
   ],
   "source": [
    "from pyspark.sql import SparkSession\n",
    "from pyspark.sql.functions import explode, split\n",
    "\n",
    "spark = SparkSession.builder \\\n",
    "    .appName(\"BibleWordCount\") \\\n",
    "    .getOrCreate()\n",
    "\n",
    "bible_text = spark.read.text(\"/Users/raulperbichi/Desktop/School/Spring 2024/CS 452/CS452/bible-1.txt\")\n",
    "\n",
    "words_df = bible_text.select(explode(split(bible_text.value, \"\\\\s+\")).alias(\"word\"))\n",
    "\n",
    "filtered_words_df = words_df.filter(words_df.word != \"\")\n",
    "\n",
    "word_counts_df = filtered_words_df.groupBy(\"word\").count()\n",
    "\n",
    "word_counts_df.createOrReplaceTempView(\"word_counts\")\n",
    "\n",
    "top_words = spark.sql(\"\"\"\n",
    "SELECT word, count \n",
    "FROM word_counts \n",
    "ORDER BY count DESC\n",
    "LIMIT 20\n",
    "\"\"\")\n",
    "\n",
    "top_words.show()\n",
    "\n",
    "spark.stop()\n"
   ]
  }
 ],
 "metadata": {
  "kernelspec": {
   "display_name": "Python 3.10.9 64-bit",
   "language": "python",
   "name": "python3"
  },
  "language_info": {
   "codemirror_mode": {
    "name": "ipython",
    "version": 3
   },
   "file_extension": ".py",
   "mimetype": "text/x-python",
   "name": "python",
   "nbconvert_exporter": "python",
   "pygments_lexer": "ipython3",
   "version": "3.9.6"
  },
  "orig_nbformat": 4,
  "vscode": {
   "interpreter": {
    "hash": "b0fa6594d8f4cbf19f97940f81e996739fb7646882a419484c72d19e05852a7e"
   }
  }
 },
 "nbformat": 4,
 "nbformat_minor": 2
}
