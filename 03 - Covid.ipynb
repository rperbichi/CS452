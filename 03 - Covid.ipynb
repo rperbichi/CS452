{
 "cells": [
  {
   "cell_type": "code",
   "execution_count": null,
   "metadata": {},
   "outputs": [],
   "source": [
    "# Setup Spark SQL\n",
    "# Note if running locally you need the JVM https://www.oracle.com/java/technologies/downloads/ \n",
    "# Consider running in https://colab.research.google.com/\n",
    "%pip install pyspark"
   ]
  },
  {
   "cell_type": "code",
   "execution_count": 4,
   "metadata": {},
   "outputs": [
    {
     "name": "stderr",
     "output_type": "stream",
     "text": [
      "Setting default log level to \"WARN\".\n",
      "To adjust logging level use sc.setLogLevel(newLevel). For SparkR, use setLogLevel(newLevel).\n",
      "24/05/23 17:50:04 WARN NativeCodeLoader: Unable to load native-hadoop library for your platform... using builtin-java classes where applicable\n"
     ]
    }
   ],
   "source": [
    "# Initialize Context - this is where you'd setup information about your Hadoop cluster if you had one!\n",
    "from pyspark.sql import SparkSession\n",
    "\n",
    "\n",
    "spark = SparkSession.builder.appName(\"Covid\").getOrCreate()\n",
    "\n",
    "sc = spark.sparkContext\n",
    "\n",
    "sc.setLogLevel(\"WARN\")"
   ]
  },
  {
   "cell_type": "code",
   "execution_count": 5,
   "metadata": {},
   "outputs": [
    {
     "name": "stdout",
     "output_type": "stream",
     "text": [
      "  % Total    % Received % Xferd  Average Speed   Time    Time     Time  Current\n",
      "                                 Dload  Upload   Total   Spent    Left  Speed\n",
      "  4 99.9M    4 4173k    0     0   147k      0  0:11:36  0:00:28  0:11:08  143k"
     ]
    }
   ],
   "source": [
    "# Download 100mb covid county data file\n",
    "!curl \"https://raw.githubusercontent.com/nytimes/covid-19-data/master/us-counties.csv\" > ./uscounties.csv"
   ]
  },
  {
   "cell_type": "code",
   "execution_count": 28,
   "metadata": {},
   "outputs": [
    {
     "name": "stdout",
     "output_type": "stream",
     "text": [
      "+----------+-----------+----------+-----+-----+------+\n",
      "|      date|     county|     state| fips|cases|deaths|\n",
      "+----------+-----------+----------+-----+-----+------+\n",
      "|2020-01-21|  Snohomish|Washington|53061|    1|     0|\n",
      "|2020-01-22|  Snohomish|Washington|53061|    1|     0|\n",
      "|2020-01-23|  Snohomish|Washington|53061|    1|     0|\n",
      "|2020-01-24|       Cook|  Illinois|17031|    1|     0|\n",
      "|2020-01-24|  Snohomish|Washington|53061|    1|     0|\n",
      "|2020-01-25|     Orange|California| 6059|    1|     0|\n",
      "|2020-01-25|       Cook|  Illinois|17031|    1|     0|\n",
      "|2020-01-25|  Snohomish|Washington|53061|    1|     0|\n",
      "|2020-01-26|   Maricopa|   Arizona| 4013|    1|     0|\n",
      "|2020-01-26|Los Angeles|California| 6037|    1|     0|\n",
      "|2020-01-26|     Orange|California| 6059|    1|     0|\n",
      "|2020-01-26|       Cook|  Illinois|17031|    1|     0|\n",
      "|2020-01-26|  Snohomish|Washington|53061|    1|     0|\n",
      "|2020-01-27|   Maricopa|   Arizona| 4013|    1|     0|\n",
      "|2020-01-27|Los Angeles|California| 6037|    1|     0|\n",
      "|2020-01-27|     Orange|California| 6059|    1|     0|\n",
      "|2020-01-27|       Cook|  Illinois|17031|    1|     0|\n",
      "|2020-01-27|  Snohomish|Washington|53061|    1|     0|\n",
      "|2020-01-28|   Maricopa|   Arizona| 4013|    1|     0|\n",
      "|2020-01-28|Los Angeles|California| 6037|    1|     0|\n",
      "+----------+-----------+----------+-----+-----+------+\n",
      "only showing top 20 rows\n",
      "\n"
     ]
    },
    {
     "name": "stderr",
     "output_type": "stream",
     "text": [
      "                                                                                \r"
     ]
    }
   ],
   "source": [
    "# Read the file into a Spark DataFrame\n",
    "usCountiesFilePath = \"./uscounties.csv\"\n",
    "\n",
    "df = spark.read.csv(usCountiesFilePath, inferSchema=True, header=True)\n",
    "\n",
    "df.show()"
   ]
  },
  {
   "cell_type": "code",
   "execution_count": 3,
   "metadata": {},
   "outputs": [
    {
     "ename": "NameError",
     "evalue": "name 'df' is not defined",
     "output_type": "error",
     "traceback": [
      "\u001b[0;31m---------------------------------------------------------------------------\u001b[0m",
      "\u001b[0;31mNameError\u001b[0m                                 Traceback (most recent call last)",
      "Cell \u001b[0;32mIn[3], line 2\u001b[0m\n\u001b[1;32m      1\u001b[0m \u001b[38;5;66;03m# SparkSQL API\u001b[39;00m\n\u001b[0;32m----> 2\u001b[0m \u001b[43mdf\u001b[49m\u001b[38;5;241m.\u001b[39mcreateOrReplaceTempView(\u001b[38;5;124m\"\u001b[39m\u001b[38;5;124mcovid\u001b[39m\u001b[38;5;124m\"\u001b[39m)  \u001b[38;5;66;03m# create table that you can do sql on\u001b[39;00m\n\u001b[1;32m      4\u001b[0m \u001b[38;5;28mprint\u001b[39m(\u001b[38;5;124m\"\u001b[39m\u001b[38;5;124mMax deaths:\u001b[39m\u001b[38;5;124m\"\u001b[39m)\n\u001b[1;32m      5\u001b[0m spark\u001b[38;5;241m.\u001b[39msql(\n\u001b[1;32m      6\u001b[0m \u001b[38;5;250m    \u001b[39m\u001b[38;5;124;03m\"\"\"\u001b[39;00m\n\u001b[1;32m      7\u001b[0m \u001b[38;5;124;03m    select county, state, deaths\u001b[39;00m\n\u001b[0;32m   (...)\u001b[0m\n\u001b[1;32m     11\u001b[0m \u001b[38;5;124;03m  \"\"\"\u001b[39;00m\n\u001b[1;32m     12\u001b[0m )\u001b[38;5;241m.\u001b[39mshow()\n",
      "\u001b[0;31mNameError\u001b[0m: name 'df' is not defined"
     ]
    }
   ],
   "source": [
    "# SparkSQL API\n",
    "df.createOrReplaceTempView(\"covid\")  # create table that you can do sql on\n",
    "\n",
    "print(\"Max deaths:\")\n",
    "spark.sql(\n",
    "    \"\"\"\n",
    "    select county, state, deaths\n",
    "    from covid\n",
    "    order by deaths desc\n",
    "    limit 1\n",
    "  \"\"\"\n",
    ").show()"
   ]
  },
  {
   "cell_type": "code",
   "execution_count": 2,
   "metadata": {},
   "outputs": [
    {
     "name": "stdout",
     "output_type": "stream",
     "text": [
      "Max deaths:\n"
     ]
    },
    {
     "ename": "NameError",
     "evalue": "name 'df' is not defined",
     "output_type": "error",
     "traceback": [
      "\u001b[0;31m---------------------------------------------------------------------------\u001b[0m",
      "\u001b[0;31mNameError\u001b[0m                                 Traceback (most recent call last)",
      "Cell \u001b[0;32mIn[2], line 6\u001b[0m\n\u001b[1;32m      2\u001b[0m \u001b[38;5;28;01mfrom\u001b[39;00m \u001b[38;5;21;01mpyspark\u001b[39;00m\u001b[38;5;21;01m.\u001b[39;00m\u001b[38;5;21;01msql\u001b[39;00m\u001b[38;5;21;01m.\u001b[39;00m\u001b[38;5;21;01mfunctions\u001b[39;00m \u001b[38;5;28;01mimport\u001b[39;00m col, desc\n\u001b[1;32m      4\u001b[0m \u001b[38;5;28mprint\u001b[39m(\u001b[38;5;124m\"\u001b[39m\u001b[38;5;124mMax deaths:\u001b[39m\u001b[38;5;124m\"\u001b[39m)\n\u001b[1;32m      5\u001b[0m \u001b[38;5;28mprint\u001b[39m(\n\u001b[0;32m----> 6\u001b[0m     \u001b[43mdf\u001b[49m\u001b[38;5;241m.\u001b[39morderBy(col(\u001b[38;5;124m\"\u001b[39m\u001b[38;5;124mdeaths\u001b[39m\u001b[38;5;124m\"\u001b[39m)\u001b[38;5;241m.\u001b[39mdesc())\u001b[38;5;241m.\u001b[39mtake(  \u001b[38;5;66;03m# .where(col(\"county\") == \"New York City\") \\\u001b[39;00m\n\u001b[1;32m      7\u001b[0m         \u001b[38;5;241m1\u001b[39m\n\u001b[1;32m      8\u001b[0m     )\n\u001b[1;32m      9\u001b[0m )\n",
      "\u001b[0;31mNameError\u001b[0m: name 'df' is not defined"
     ]
    }
   ],
   "source": [
    "# DataFrame style\n",
    "from pyspark.sql.functions import col, desc\n",
    "\n",
    "print(\"Max deaths:\")\n",
    "print(\n",
    "    df.orderBy(col(\"deaths\").desc()).take(  # .where(col(\"county\") == \"New York City\") \\\n",
    "        1\n",
    "    )\n",
    ")"
   ]
  },
  {
   "cell_type": "code",
   "execution_count": 1,
   "metadata": {},
   "outputs": [
    {
     "ename": "NameError",
     "evalue": "name 'df' is not defined",
     "output_type": "error",
     "traceback": [
      "\u001b[0;31m---------------------------------------------------------------------------\u001b[0m",
      "\u001b[0;31mNameError\u001b[0m                                 Traceback (most recent call last)",
      "Cell \u001b[0;32mIn[1], line 2\u001b[0m\n\u001b[1;32m      1\u001b[0m \u001b[38;5;66;03m# RDD MapReduce Style without key\u001b[39;00m\n\u001b[0;32m----> 2\u001b[0m rows \u001b[38;5;241m=\u001b[39m \u001b[43mdf\u001b[49m\u001b[38;5;241m.\u001b[39mrdd\n\u001b[1;32m      5\u001b[0m \u001b[38;5;28;01mdef\u001b[39;00m \u001b[38;5;21mgetMax\u001b[39m(cumm, other):\n\u001b[1;32m      6\u001b[0m     \u001b[38;5;28;01mif\u001b[39;00m other[\u001b[38;5;124m\"\u001b[39m\u001b[38;5;124mdeaths\u001b[39m\u001b[38;5;124m\"\u001b[39m] \u001b[38;5;129;01mis\u001b[39;00m \u001b[38;5;129;01mnot\u001b[39;00m \u001b[38;5;28;01mNone\u001b[39;00m \u001b[38;5;129;01mand\u001b[39;00m other[\u001b[38;5;124m\"\u001b[39m\u001b[38;5;124mdeaths\u001b[39m\u001b[38;5;124m\"\u001b[39m] \u001b[38;5;241m>\u001b[39m cumm[\u001b[38;5;124m\"\u001b[39m\u001b[38;5;124mdeaths\u001b[39m\u001b[38;5;124m\"\u001b[39m]:\n",
      "\u001b[0;31mNameError\u001b[0m: name 'df' is not defined"
     ]
    }
   ],
   "source": [
    "# RDD MapReduce Style without key\n",
    "rows = df.rdd\n",
    "\n",
    "\n",
    "def getMax(cumm, other):\n",
    "    if other[\"deaths\"] is not None and other[\"deaths\"] > cumm[\"deaths\"]:\n",
    "        return other\n",
    "    else:\n",
    "        return cumm\n",
    "\n",
    "\n",
    "print(\"Max deaths:\")\n",
    "print(rows.reduce(getMax))"
   ]
  },
  {
   "cell_type": "code",
   "execution_count": 34,
   "metadata": {},
   "outputs": [
    {
     "name": "stdout",
     "output_type": "stream",
     "text": [
      "Max deaths:\n"
     ]
    },
    {
     "name": "stderr",
     "output_type": "stream",
     "text": [
      "[Stage 8:=======>                                                   (1 + 7) / 8]\r"
     ]
    },
    {
     "name": "stdout",
     "output_type": "stream",
     "text": [
      "(40267, 'New York City,New York')\n"
     ]
    },
    {
     "name": "stderr",
     "output_type": "stream",
     "text": [
      "                                                                                \r"
     ]
    }
   ],
   "source": [
    "# RDD MapReduce Style with mapped tuples\n",
    "rows = df.rdd\n",
    "\n",
    "\n",
    "def getMax(cumm, other):\n",
    "    if other[0] > cumm[0]:\n",
    "        return other\n",
    "    else:\n",
    "        return cumm\n",
    "\n",
    "\n",
    "rows = rows.map(lambda r: (r[\"deaths\"] or 0, f\"{r['county']},{r['state']}\"))\n",
    "print(\"Max deaths:\")\n",
    "print(rows.reduce(getMax))"
   ]
  },
  {
   "cell_type": "code",
   "execution_count": 41,
   "metadata": {},
   "outputs": [
    {
     "name": "stderr",
     "output_type": "stream",
     "text": [
      "[Stage 1:=======>                                                   (1 + 7) / 8]\r"
     ]
    },
    {
     "name": "stdout",
     "output_type": "stream",
     "text": [
      "+-------------+--------+----------+\n",
      "|       county|   state|max_deaths|\n",
      "+-------------+--------+----------+\n",
      "|New York City|New York|     40267|\n",
      "+-------------+--------+----------+\n",
      "only showing top 1 row\n",
      "\n"
     ]
    },
    {
     "name": "stderr",
     "output_type": "stream",
     "text": [
      "                                                                                \r"
     ]
    }
   ],
   "source": [
    "# County with most deaths\n",
    "spark = SparkSession.builder.appName(\"COVID Analysis\").getOrCreate()\n",
    "\n",
    "df = spark.read.option(\"header\", True).csv(\"/Users/raulperbichi/Desktop/byu-cs-452-class-content/sparksql/uscounties.csv\")\n",
    "\n",
    "df = df.withColumn(\"deaths\", col(\"deaths\").cast(\"integer\"))\n",
    "\n",
    "df = df.na.fill(value=0, subset=[\"deaths\"])\n",
    "\n",
    "max_deaths_per_county = df.groupBy(\"county\", \"state\").agg(spark_max(\"deaths\").alias(\"max_deaths\"))\n",
    "\n",
    "county_with_max_deaths = max_deaths_per_county.orderBy(desc(\"max_deaths\"))\n",
    "\n",
    "county_with_max_deaths.select(\"county\", \"state\", \"max_deaths\").show(1)\n",
    "\n",
    "spark.stop()"
   ]
  },
  {
   "cell_type": "code",
   "execution_count": 54,
   "metadata": {},
   "outputs": [
    {
     "name": "stderr",
     "output_type": "stream",
     "text": [
      "                                                                                \r"
     ]
    },
    {
     "name": "stdout",
     "output_type": "stream",
     "text": [
      "+-----------+----------+---------+\n",
      "|     county|     state|max_cases|\n",
      "+-----------+----------+---------+\n",
      "|Los Angeles|California|  2908425|\n",
      "+-----------+----------+---------+\n",
      "only showing top 1 row\n",
      "\n"
     ]
    }
   ],
   "source": [
    "# County with most cases\n",
    "spark = SparkSession.builder.appName(\"COVID Case Analysis\").getOrCreate()\n",
    "\n",
    "df = spark.read.option(\"header\", True).csv(\"/Users/raulperbichi/Desktop/byu-cs-452-class-content/sparksql/uscounties.csv\")\n",
    "\n",
    "df = df.withColumn(\"cases\", col(\"cases\").cast(\"integer\"))\n",
    "\n",
    "df = df.na.fill(value = 0, subset = [\"cases\"])\n",
    "\n",
    "max_cases_per_county = df.groupBy(\"county\", \"state\").agg(spark_max(\"cases\").alias(\"max_cases\"))\n",
    "\n",
    "county_with_max_cases = max_cases_per_county.orderBy(desc(\"max_cases\"))\n",
    "\n",
    "county_with_max_cases.select(\"county\", \"state\", \"max_cases\").show(1)\n",
    "\n",
    "spark.stop()\n"
   ]
  },
  {
   "cell_type": "code",
   "execution_count": 50,
   "metadata": {},
   "outputs": [
    {
     "name": "stdout",
     "output_type": "stream",
     "text": [
      "+------+-----+----------+\n",
      "|county|state|max_deaths|\n",
      "+------+-----+----------+\n",
      "|  Utah| Utah|       791|\n",
      "+------+-----+----------+\n",
      "\n"
     ]
    }
   ],
   "source": [
    "# Number of deaths in Utah County\n",
    "spark = SparkSession.builder.appName(\"Utah County COVID Analysis\").getOrCreate()\n",
    "\n",
    "df = spark.read.option(\"header\", True).csv(\"/Users/raulperbichi/Desktop/byu-cs-452-class-content/sparksql/uscounties.csv\")\n",
    "\n",
    "df = df.withColumn(\"deaths\", col(\"deaths\").cast(\"integer\"))\n",
    "\n",
    "utah_county_deaths = df.filter((df.county == \"Utah\") & (df.state == \"Utah\"))\n",
    "\n",
    "max_deaths = utah_county_deaths.groupBy(\"county\", \"state\").agg(spark_max(\"deaths\").alias(\"max_deaths\"))\n",
    "\n",
    "max_deaths.show()\n",
    "\n",
    "spark.stop()"
   ]
  },
  {
   "cell_type": "code",
   "execution_count": 53,
   "metadata": {},
   "outputs": [
    {
     "name": "stderr",
     "output_type": "stream",
     "text": [
      "                                                                                \r"
     ]
    },
    {
     "name": "stdout",
     "output_type": "stream",
     "text": [
      "+------------------------+-----------+------------+------------------+\n",
      "|state                   |total_cases|total_deaths|death_rate        |\n",
      "+------------------------+-----------+------------+------------------+\n",
      "|Pennsylvania            |2850361    |44816       |1.572292071074506 |\n",
      "|Mississippi             |801527     |12509       |1.5606461167247017|\n",
      "|Alabama                 |1304721    |19629       |1.5044595741158455|\n",
      "|Arizona                 |2030944    |30242       |1.4890612444262372|\n",
      "|Nevada                  |745456     |10980       |1.4729239552703313|\n",
      "|Georgia                 |2497983    |36748       |1.4711068890380758|\n",
      "|Michigan                |2472824    |36153       |1.4620126624458514|\n",
      "|New Jersey              |2316898    |33632       |1.4515960564513415|\n",
      "|New Mexico              |526500     |7627        |1.4486229819563152|\n",
      "|Ohio                    |2725342    |38572       |1.4153086108092123|\n",
      "|Missouri                |1461727    |20588       |1.4084709388278387|\n",
      "|Connecticut             |779948     |10926       |1.4008626216106717|\n",
      "|Indiana                 |1717471    |23664       |1.3778398587225054|\n",
      "|Louisiana               |1276677    |17533       |1.3733309208202231|\n",
      "|West Virginia           |505532     |6928        |1.3704374797243302|\n",
      "|Arkansas                |838256     |11418       |1.3621137218224504|\n",
      "|Florida                 |6329181    |85864       |1.3566368223629566|\n",
      "|Massachusetts           |1809309    |23838       |1.3175195613352944|\n",
      "|Maryland                |1128314    |14833       |1.3146163213431723|\n",
      "|New York                |5267378    |69108       |1.3120000121502577|\n",
      "|Texas                   |6813923    |88448       |1.2980481288092043|\n",
      "|Oklahoma                |1129646    |14604       |1.292794379832266 |\n",
      "|Tennessee               |2092406    |26421       |1.262709053596673 |\n",
      "|Kansas                  |781795     |9701        |1.2408623744076133|\n",
      "|Montana                 |275462     |3383        |1.22811857896915  |\n",
      "|South Dakota            |238702     |2921        |1.223701519048856 |\n",
      "|South Carolina          |1481646    |17872       |1.2062260485973033|\n",
      "|Iowa                    |794332     |9567        |1.20440823232603  |\n",
      "|Illinois                |3227145    |38018       |1.1780691602019742|\n",
      "|Virginia                |1741698    |20480       |1.1758640131641651|\n",
      "|Kentucky                |1346327    |15743       |1.1693295908052057|\n",
      "|Wyoming                 |157064     |1817        |1.1568532572709214|\n",
      "|Idaho                   |451149     |4971        |1.101853267989068 |\n",
      "|Delaware                |267874     |2932        |1.0945444500026131|\n",
      "|Oregon                  |740344     |7574        |1.0230379391201927|\n",
      "|California              |9386668    |90999       |0.9694494361577506|\n",
      "|North Dakota            |244817     |2321        |0.9480550778744941|\n",
      "|District of Columbia    |143943     |1340        |0.9309240463238921|\n",
      "|Maine                   |254796     |2336        |0.9168118808772509|\n",
      "|North Carolina          |2694970    |24618       |0.9134795563586978|\n",
      "|Rhode Island            |411408     |3744        |0.9100455022751138|\n",
      "|Colorado                |1412394    |12752       |0.902864214942856 |\n",
      "|Wisconsin               |1643840    |14521       |0.8833584777107261|\n",
      "|Nebraska                |492088     |4313        |0.8764692494025459|\n",
      "|Minnesota               |1496778    |12849       |0.8584439375779175|\n",
      "|Washington              |1534770    |12849       |0.8371938466350006|\n",
      "|New Hampshire           |320720     |2530        |0.788850087303567 |\n",
      "|Guam                    |49465      |362         |0.7318305872839381|\n",
      "|Puerto Rico             |627128     |4250        |0.6776925922618667|\n",
      "|Virgin Islands          |18095      |120         |0.6631666206134291|\n",
      "|Hawaii                  |251779     |1437        |0.5707386239519578|\n",
      "|American Samoa          |5930       |30          |0.5059021922428331|\n",
      "|Utah                    |943235     |4769        |0.505600407109575 |\n",
      "|Alaska                  |254467     |1229        |0.4829702869134308|\n",
      "|Vermont                 |142998     |663         |0.4636428481517224|\n",
      "|Northern Mariana Islands|15468      |40          |0.2585983966899405|\n",
      "+------------------------+-----------+------------+------------------+\n",
      "\n"
     ]
    }
   ],
   "source": [
    "# State death reate analysis\n",
    "spark = SparkSession.builder.appName(\"State Death Rate Analysis\").getOrCreate()\n",
    "\n",
    "df = spark.read.option(\"header\", True).csv(\"/Users/raulperbichi/Desktop/byu-cs-452-class-content/sparksql/uscounties.csv\")\n",
    "\n",
    "df = df.withColumn(\"cases\", col(\"cases\").cast(\"integer\"))\\\n",
    "       .withColumn(\"deaths\", col(\"deaths\").cast(\"integer\"))\\\n",
    "       .na.fill(value=0, subset=[\"cases\", \"deaths\"])\n",
    "\n",
    "county_max = df.groupBy(\"county\", \"state\").agg(\n",
    "    spark_max(\"cases\").alias(\"max_cases\"),\n",
    "    spark_max(\"deaths\").alias(\"max_deaths\")\n",
    ")\n",
    "\n",
    "state_totals = county_max.groupBy(\"state\").agg(\n",
    "    spark_sum(\"max_cases\").alias(\"total_cases\"),\n",
    "    spark_sum(\"max_deaths\").alias(\"total_deaths\")\n",
    ")\n",
    "\n",
    "death_rate = state_totals.withColumn(\"death_rate\", (col(\"total_deaths\") / col(\"total_cases\")) * 100)\n",
    "\n",
    "sorted_death_rate = death_rate.orderBy(desc(\"death_rate\"))\n",
    "\n",
    "sorted_death_rate.show(sorted_death_rate.count(), truncate=False)\n",
    "\n",
    "spark.stop()"
   ]
  },
  {
   "cell_type": "code",
   "execution_count": 63,
   "metadata": {},
   "outputs": [
    {
     "data": {
      "image/png": "[encoded data removed]",
      "text/plain": [
       "<Figure size 1000x500 with 1 Axes>"
      ]
     },
     "metadata": {},
     "output_type": "display_data"
    }
   ],
   "source": [
    "# Case trend analysis for New York\n",
    "import matplotlib.pyplot as plt\n",
    "\n",
    "spark = SparkSession.builder.appName(\"New York COVID Case Trend Analysis\").getOrCreate()\n",
    "\n",
    "df = spark.read.option(\"header\", True).csv(\"/Users/raulperbichi/Desktop/byu-cs-452-class-content/sparksql/uscounties.csv\")\n",
    "\n",
    "df = df.withColumn(\"date\", to_date(col(\"date\"), \"yyyy-MM-dd\"))\\\n",
    "       .withColumn(\"cases\", col(\"cases\").cast(\"integer\"))\\\n",
    "       .na.fill(value = 0, subset=[\"cases\"])\n",
    "\n",
    "ny_data = df.filter(df.state == \"New York\")\n",
    "\n",
    "monthly_cases = ny_data.groupBy(year(col(\"date\")).alias(\"year\"), month(col(\"date\")).alias(\"month\"))\\\n",
    "                        .agg(spark_sum(\"cases\").alias(\"total_cases\"))\\\n",
    "                        .orderBy(\"year\", \"month\")\n",
    "\n",
    "result = monthly_cases.collect()\n",
    "\n",
    "months = [f\"{row['year']}-{row['month']:02d}\" for row in result]\n",
    "cases = [row['total_cases'] for row in result]\n",
    "\n",
    "plt.figure(figsize = (10, 5))\n",
    "plt.plot(months, cases, label='Total Cases', marker = 'o', color = 'b')\n",
    "plt.xticks(rotation = 45)\n",
    "plt.xlabel(\"Month\")\n",
    "plt.ylabel(\"Number of Cases\")\n",
    "plt.title(\"Monthly COVID-19 Cases in New York\")\n",
    "plt.legend()\n",
    "plt.tight_layout()\n",
    "plt.show()\n",
    "\n",
    "spark.stop()\n"
   ]
  }
 ],
 "metadata": {
  "kernelspec": {
   "display_name": "Python 3",
   "language": "python",
   "name": "python3"
  },
  "language_info": {
   "codemirror_mode": {
    "name": "ipython",
    "version": 3
   },
   "file_extension": ".py",
   "mimetype": "text/x-python",
   "name": "python",
   "nbconvert_exporter": "python",
   "pygments_lexer": "ipython3",
   "version": "3.9.6"
  }
 },
 "nbformat": 4,
 "nbformat_minor": 2
}
